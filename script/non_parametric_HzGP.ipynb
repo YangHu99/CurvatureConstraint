{
 "cells": [
  {
   "cell_type": "code",
   "execution_count": null,
   "metadata": {},
   "outputs": [],
   "source": [
    "\"\"\"\n",
    "Author: Yang Hu\n",
    "1. This file gives a script to optimise hyperparamters in GP in non-parametric analysis in this repository for a \n",
    "given BAO data file.\n",
    "2. Constraints on parameters are obtained via Markov Chain Monte Carlo (MCMC) using emcee package.\n",
    "\"\"\""
   ]
  },
  {
   "cell_type": "code",
   "execution_count": null,
   "metadata": {},
   "outputs": [],
   "source": [
    "\"\"\"\n",
    "standard imports for data analysis; astropy.cosmology to compute astrophysical quantities with ease; george to run\n",
    "GP and emcee to run MCMC\n",
    "\"\"\"\n",
    "\n",
    "import numpy as np\n",
    "import pandas as pd\n",
    "import matplotlib.pyplot as plt\n",
    "from scipy.optimize import minimize\n",
    "import corner\n",
    "\n",
    "import george\n",
    "from george import kernels\n",
    "from george.modeling import Model\n",
    "import emcee\n",
    "\n",
    "from astropy.cosmology import FlatLambdaCDM, FlatwCDM, LambdaCDM, wCDM"
   ]
  },
  {
   "cell_type": "code",
   "execution_count": null,
   "metadata": {},
   "outputs": [],
   "source": [
    "\"\"\"\n",
    "Load original data. Please check that the relevant data files are named and stored in the way the code below \n",
    "specified.\n",
    "\"\"\"\n",
    "\n",
    "#load&rename BAO data\n",
    "data4 = pd.read_csv(\"Data/DESI_HZ_error.txt\", delimiter=' ', skiprows=1, header=None) \n",
    "zBAO = data4[0] #x\n",
    "sigHz = data4[1] #yerr\n",
    "\n",
    "#generate y = Hz\n",
    "H0_mock, Om0_mock, Ok0_mock, w_mock = 72, 0.3, 0.00, -1\n",
    "truth = dict(h0=H0_mock, om=Om0_mock, ok=Ok0_mock, w=w_mock)\n",
    "cosmo_mock = wCDM(H0=H0_mock, Om0=Om0_mock, Ode0=1.-Om0_mock-Ok0_mock, w0=w_mock)\n",
    "Hz_mock = cosmo_mock.H(z=zBAO).value #y\n"
   ]
  },
  {
   "cell_type": "code",
   "execution_count": null,
   "metadata": {},
   "outputs": [],
   "source": [
    "\"\"\"\n",
    "Get a starting point of GP hyperparameters from BAO data using george package.\n",
    "Constraints are obtained by MCMC and here we define the relevant prior and likelihood functions. \n",
    "\"\"\"\n",
    "\n",
    "#compute a rough interpolation as starting values for MCMC\n",
    "gp = george.GP(np.var(Hz_mock)*kernels.ExpSquaredKernel(1), fit_kernel=True,\n",
    "               mean=np.mean(Hz_mock), white_noise=None)\n",
    "print(gp.parameter_names)\n",
    "gp.compute(zBAO, sigHz)\n",
    "\n",
    "#defining mcmc functions\n",
    "def lnprob(p):\n",
    "    if np.any((-100 > p[1:]) + (p[1:] > 100)):\n",
    "        return -np.inf\n",
    "    gp.set_parameter_vector(p)\n",
    "    return gp.log_likelihood(Hz_mock, quiet=True)\n",
    "\n",
    "#Set up the sampler.\n",
    "nwalkers, nsamples, ndim = 32, 20000, len(gp)\n",
    "sampler = emcee.EnsembleSampler(nwalkers, ndim, lnprob)\n",
    "\n",
    "#Initialize the walkers.\n",
    "p0 = gp.get_parameter_vector() + 1e-4 * np.random.randn(nwalkers, ndim)"
   ]
  },
  {
   "cell_type": "code",
   "execution_count": null,
   "metadata": {},
   "outputs": [],
   "source": [
    "\"\"\"\n",
    "run MCMC on hyperparameters using emcee package\n",
    "\"\"\"\n",
    "\n",
    "run_mcmc = True\n",
    "save_mcmc = True\n",
    "load_mcmc = True\n",
    "\n",
    "labels = [\"amp\", \"length scale\"]\n",
    "\n",
    "if run_mcmc:\n",
    "    print(\"Sampling...\")\n",
    "    sampler.run_mcmc(p0, nsamples, progress=True);\n",
    "    \n",
    "if save_mcmc:\n",
    "    samples = sampler.get_chain()\n",
    "    flat_samples = sampler.get_chain(discard=5000, thin=4, flat=True)\n",
    "    sample_data = pd.DataFrame(flat_samples)\n",
    "    sample_data.to_csv(\n",
    "    \"GP_samples/amp_ls_%ix%i.csv\" \n",
    "    % (nwalkers, nsamples), \n",
    "    index=False, header=labels\n",
    ")\n",
    "\n",
    "if load_mcmc:\n",
    "    flat_samples = pd.read_csv(\"GP_samples/amp_ls_%ix%i.csv\" % (nwalkers, nsamples), skiprows=1, header=None)"
   ]
  },
  {
   "cell_type": "code",
   "execution_count": null,
   "metadata": {},
   "outputs": [],
   "source": [
    "\"\"\"\n",
    "After loading a sample file, we can plot a corner plot showing how well constraints are placed on each interested\n",
    "hyperparamters by the data.\n",
    "\"\"\"\n",
    "\n",
    "fig = corner.corner(\n",
    "    flat_samples, labels=labels, quantiles=(0.16, 0.84), show_titles=True, \n",
    "    title_fmt='.3f', use_math_text=True\n",
    ")\n",
    "fig.suptitle(\"Corner plot, hyper-parameters: amp, length scale, %ix%i\" % (nwalkers, nsamples), y=1.02)\n",
    "fig.savefig(\"GP_plots/amp_ls_corner_%ix%i.png\" % (nwalkers, nsamples), bbox_inches='tight')"
   ]
  },
  {
   "cell_type": "code",
   "execution_count": null,
   "metadata": {},
   "outputs": [],
   "source": [
    "\"\"\"\n",
    "plot interpolated curve with optimal hyperparameters for testing\n",
    "\"\"\"\n",
    "\n",
    "#here we need to replace the two numercial values by whatever values we get from MCMC\n",
    "gp_optimal = george.GP(10.186*np.var(Hz_mock)*kernels.ExpSquaredKernel(1.939), fit_kernel=True,\n",
    "               mean=np.mean(Hz_mock), white_noise=None)\n",
    "gp_optimal.compute(zBAO, sigHz)\n",
    "\n",
    "z_pred = np.linspace(0., max(zBAO), 500)\n",
    "pred, pred_var = gp_optimal.predict(Hz_mock, z_pred, return_var=True)\n",
    "\n",
    "plt.fill_between(z_pred, pred - np.sqrt(pred_var), pred + np.sqrt(pred_var),\n",
    "                color=\"k\", alpha=0.2)\n",
    "plt.plot(z_pred, pred, \"k\", lw=1.5, alpha=0.5)\n",
    "plt.errorbar(zBAO, Hz_mock, yerr=sigHz, fmt=\".k\", capsize=0)\n",
    "plt.xlabel(\"$z_{BAO}$\")\n",
    "plt.ylabel(\"$H_z$\")\n",
    "plt.title(\"$H_z$ VS $z_{BAO}$, amp=10.186, length scale=1.939\")\n",
    "plt.savefig(\"GP_plots/optimal_hyperparameters.png\")"
   ]
  }
 ],
 "metadata": {
  "kernelspec": {
   "display_name": "Python 3 (ipykernel)",
   "language": "python",
   "name": "python3"
  },
  "language_info": {
   "codemirror_mode": {
    "name": "ipython",
    "version": 3
   },
   "file_extension": ".py",
   "mimetype": "text/x-python",
   "name": "python",
   "nbconvert_exporter": "python",
   "pygments_lexer": "ipython3",
   "version": "3.11.5"
  }
 },
 "nbformat": 4,
 "nbformat_minor": 2
}
